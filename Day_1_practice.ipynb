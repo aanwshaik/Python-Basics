{
 "cells": [
  {
   "cell_type": "markdown",
   "id": "0e3d2a05-0281-47f5-a719-83adbd6cae5d",
   "metadata": {},
   "source": [
    "BASIC PYTHON PROGRAMMING TODAY"
   ]
  },
  {
   "cell_type": "code",
   "execution_count": 23,
   "id": "de1b7a32-c407-4e61-8d86-e0481a896375",
   "metadata": {},
   "outputs": [
    {
     "data": {
      "text/plain": [
       "'3.12.7 | packaged by Anaconda, Inc. | (main, Oct  4 2024, 13:17:27) [MSC v.1929 64 bit (AMD64)]'"
      ]
     },
     "execution_count": 23,
     "metadata": {},
     "output_type": "execute_result"
    }
   ],
   "source": [
    "import sys\n",
    "sys.version"
   ]
  },
  {
   "cell_type": "markdown",
   "id": "d2ba8a3b-2f76-48b0-a255-8291b45082c2",
   "metadata": {},
   "source": [
    "Work with numbers "
   ]
  },
  {
   "cell_type": "code",
   "execution_count": 25,
   "id": "f516c864-c574-4f01-989c-0177fdbd0a46",
   "metadata": {},
   "outputs": [
    {
     "data": {
      "text/plain": [
       "5"
      ]
     },
     "execution_count": 25,
     "metadata": {},
     "output_type": "execute_result"
    }
   ],
   "source": [
    "5"
   ]
  },
  {
   "cell_type": "markdown",
   "id": "c4d2d90d-2e33-414e-b311-f9d1acf331d1",
   "metadata": {},
   "source": [
    "5 + 5 "
   ]
  },
  {
   "cell_type": "code",
   "execution_count": 28,
   "id": "d6bafc17-1c3c-4080-80eb-08be39b0c0a2",
   "metadata": {},
   "outputs": [
    {
     "data": {
      "text/plain": [
       "10"
      ]
     },
     "execution_count": 28,
     "metadata": {},
     "output_type": "execute_result"
    }
   ],
   "source": [
    "5 + 5"
   ]
  },
  {
   "cell_type": "code",
   "execution_count": 30,
   "id": "b5609470-59ee-4e49-998d-872c3758fd3e",
   "metadata": {},
   "outputs": [
    {
     "data": {
      "text/plain": [
       "2"
      ]
     },
     "execution_count": 30,
     "metadata": {},
     "output_type": "execute_result"
    }
   ],
   "source": [
    "5 - 3"
   ]
  },
  {
   "cell_type": "code",
   "execution_count": 32,
   "id": "53349407-bfb4-4a60-abbb-64f9eb21a088",
   "metadata": {},
   "outputs": [
    {
     "data": {
      "text/plain": [
       "25"
      ]
     },
     "execution_count": 32,
     "metadata": {},
     "output_type": "execute_result"
    }
   ],
   "source": [
    "5 * 5"
   ]
  },
  {
   "cell_type": "code",
   "execution_count": 34,
   "id": "aab50289-6348-4344-aaec-4e7f9f29a4a8",
   "metadata": {},
   "outputs": [
    {
     "data": {
      "text/plain": [
       "3125"
      ]
     },
     "execution_count": 34,
     "metadata": {},
     "output_type": "execute_result"
    }
   ],
   "source": [
    "5 ** 5"
   ]
  },
  {
   "cell_type": "code",
   "execution_count": 36,
   "id": "4bf8c709-2355-4986-9d13-7935b8553622",
   "metadata": {},
   "outputs": [
    {
     "data": {
      "text/plain": [
       "2.0"
      ]
     },
     "execution_count": 36,
     "metadata": {},
     "output_type": "execute_result"
    }
   ],
   "source": [
    "10 / 5"
   ]
  },
  {
   "cell_type": "code",
   "execution_count": 38,
   "id": "5dbf945c-9274-4b28-ab9d-f49889116a53",
   "metadata": {},
   "outputs": [
    {
     "data": {
      "text/plain": [
       "2"
      ]
     },
     "execution_count": 38,
     "metadata": {},
     "output_type": "execute_result"
    }
   ],
   "source": [
    "10 // 5"
   ]
  },
  {
   "cell_type": "code",
   "execution_count": 40,
   "id": "12a24c36-81c2-4e04-8284-c034d80457d4",
   "metadata": {},
   "outputs": [
    {
     "data": {
      "text/plain": [
       "0"
      ]
     },
     "execution_count": 40,
     "metadata": {},
     "output_type": "execute_result"
    }
   ],
   "source": [
    "10 % 5"
   ]
  },
  {
   "cell_type": "markdown",
   "id": "9869f229-1132-42bd-a138-43942dd11c9f",
   "metadata": {},
   "source": [
    "Working with string "
   ]
  },
  {
   "cell_type": "code",
   "execution_count": 43,
   "id": "dbd68c67-a728-4c77-9180-3662194f2360",
   "metadata": {},
   "outputs": [
    {
     "ename": "NameError",
     "evalue": "name 'Anwar' is not defined",
     "output_type": "error",
     "traceback": [
      "\u001b[1;31m---------------------------------------------------------------------------\u001b[0m",
      "\u001b[1;31mNameError\u001b[0m                                 Traceback (most recent call last)",
      "Cell \u001b[1;32mIn[43], line 1\u001b[0m\n\u001b[1;32m----> 1\u001b[0m Anwar\n",
      "\u001b[1;31mNameError\u001b[0m: name 'Anwar' is not defined"
     ]
    }
   ],
   "source": [
    "Anwar"
   ]
  },
  {
   "cell_type": "code",
   "execution_count": 45,
   "id": "54c2215d-7686-4834-acf8-1df32cca3b82",
   "metadata": {},
   "outputs": [
    {
     "data": {
      "text/plain": [
       "'Anwar'"
      ]
     },
     "execution_count": 45,
     "metadata": {},
     "output_type": "execute_result"
    }
   ],
   "source": [
    "'Anwar'"
   ]
  },
  {
   "cell_type": "code",
   "execution_count": 47,
   "id": "2f773ca3-069a-4b16-834c-7f0f3c2b7ce7",
   "metadata": {},
   "outputs": [
    {
     "data": {
      "text/plain": [
       "' Anwar '"
      ]
     },
     "execution_count": 47,
     "metadata": {},
     "output_type": "execute_result"
    }
   ],
   "source": [
    "\" Anwar \""
   ]
  },
  {
   "cell_type": "code",
   "execution_count": 49,
   "id": "debb777b-814b-4d1f-a69a-f8af266e3046",
   "metadata": {},
   "outputs": [
    {
     "data": {
      "text/plain": [
       "\"'Anwar'\""
      ]
     },
     "execution_count": 49,
     "metadata": {},
     "output_type": "execute_result"
    }
   ],
   "source": [
    "\"'Anwar'\""
   ]
  },
  {
   "cell_type": "code",
   "execution_count": 51,
   "id": "57111994-d4be-4f40-9f5d-25ee84a4b778",
   "metadata": {},
   "outputs": [
    {
     "data": {
      "text/plain": [
       "'Anwar'"
      ]
     },
     "execution_count": 51,
     "metadata": {},
     "output_type": "execute_result"
    }
   ],
   "source": [
    "'''Anwar'''"
   ]
  },
  {
   "cell_type": "markdown",
   "id": "cc8815dc-dc72-4d3f-aa5e-448f18c1409e",
   "metadata": {},
   "source": [
    "Variable = Object "
   ]
  },
  {
   "cell_type": "code",
   "execution_count": 54,
   "id": "ee0422f2-20e0-4f08-9f8e-230cf98b82e4",
   "metadata": {},
   "outputs": [
    {
     "data": {
      "text/plain": [
       "10"
      ]
     },
     "execution_count": 54,
     "metadata": {},
     "output_type": "execute_result"
    }
   ],
   "source": [
    "v = 10\n",
    "v"
   ]
  },
  {
   "cell_type": "code",
   "execution_count": 56,
   "id": "294e6617-4417-4108-8093-1de2dcdf4055",
   "metadata": {},
   "outputs": [
    {
     "data": {
      "text/plain": [
       "int"
      ]
     },
     "execution_count": 56,
     "metadata": {},
     "output_type": "execute_result"
    }
   ],
   "source": [
    "type(v)"
   ]
  },
  {
   "cell_type": "code",
   "execution_count": 58,
   "id": "bc250583-5d5d-427f-af3d-a0a3710084a8",
   "metadata": {},
   "outputs": [
    {
     "ename": "NameError",
     "evalue": "name 'v2' is not defined",
     "output_type": "error",
     "traceback": [
      "\u001b[1;31m---------------------------------------------------------------------------\u001b[0m",
      "\u001b[1;31mNameError\u001b[0m                                 Traceback (most recent call last)",
      "Cell \u001b[1;32mIn[58], line 2\u001b[0m\n\u001b[0;32m      1\u001b[0m v1 \u001b[38;5;241m=\u001b[39m \u001b[38;5;124m'\u001b[39m\u001b[38;5;124mint\u001b[39m\u001b[38;5;124m'\u001b[39m\n\u001b[1;32m----> 2\u001b[0m v2\n",
      "\u001b[1;31mNameError\u001b[0m: name 'v2' is not defined"
     ]
    }
   ],
   "source": [
    "v1 = 'int'\n",
    "v2"
   ]
  },
  {
   "cell_type": "code",
   "execution_count": 60,
   "id": "c75123b3-e419-442d-9890-8bdfe7a54f6a",
   "metadata": {},
   "outputs": [
    {
     "data": {
      "text/plain": [
       "'int'"
      ]
     },
     "execution_count": 60,
     "metadata": {},
     "output_type": "execute_result"
    }
   ],
   "source": [
    "v1"
   ]
  },
  {
   "cell_type": "code",
   "execution_count": null,
   "id": "52c3d245-34d0-4574-b1d7-941937ba6cb7",
   "metadata": {},
   "outputs": [],
   "source": []
  }
 ],
 "metadata": {
  "kernelspec": {
   "display_name": "Python [conda env:base] *",
   "language": "python",
   "name": "conda-base-py"
  },
  "language_info": {
   "codemirror_mode": {
    "name": "ipython",
    "version": 3
   },
   "file_extension": ".py",
   "mimetype": "text/x-python",
   "name": "python",
   "nbconvert_exporter": "python",
   "pygments_lexer": "ipython3",
   "version": "3.12.7"
  }
 },
 "nbformat": 4,
 "nbformat_minor": 5
}
